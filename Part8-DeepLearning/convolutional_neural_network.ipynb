{
 "cells": [
  {
   "cell_type": "markdown",
   "metadata": {},
   "source": [
    "# Convolutional Neural Network"
   ]
  },
  {
   "cell_type": "markdown",
   "metadata": {},
   "source": [
    "### Import the libraries"
   ]
  },
  {
   "cell_type": "code",
   "execution_count": 1,
   "metadata": {},
   "outputs": [],
   "source": [
    "import tensorflow as tf\n",
    "from tensorflow.keras.preprocessing.image import ImageDataGenerator"
   ]
  },
  {
   "cell_type": "code",
   "execution_count": 2,
   "metadata": {},
   "outputs": [
    {
     "data": {
      "text/plain": [
       "'2.4.0'"
      ]
     },
     "execution_count": 2,
     "metadata": {},
     "output_type": "execute_result"
    }
   ],
   "source": [
    "tf.__version__"
   ]
  },
  {
   "cell_type": "markdown",
   "metadata": {},
   "source": [
    "## Part 1 - Data preprocessing\n",
    "### Preprocessing the training set"
   ]
  },
  {
   "cell_type": "code",
   "execution_count": 3,
   "metadata": {},
   "outputs": [
    {
     "name": "stdout",
     "output_type": "stream",
     "text": [
      "Found 8000 images belonging to 2 classes.\n"
     ]
    }
   ],
   "source": [
    "# Apply transformations (data aufmentation) in order to avoid overfitting.\n",
    "train_datagen = ImageDataGenerator(\n",
    "        rescale=1./255,\n",
    "        shear_range=0.2,\n",
    "        zoom_range=0.2,\n",
    "        horizontal_flip=True)\n",
    "training_set = train_datagen.flow_from_directory(\n",
    "        'dataset/training_set',\n",
    "        target_size=(64, 64),\n",
    "        batch_size=32,\n",
    "        class_mode='binary')"
   ]
  },
  {
   "cell_type": "markdown",
   "metadata": {},
   "source": [
    "### Preprocessing the test set"
   ]
  },
  {
   "cell_type": "code",
   "execution_count": 4,
   "metadata": {},
   "outputs": [
    {
     "name": "stdout",
     "output_type": "stream",
     "text": [
      "Found 2000 images belonging to 2 classes.\n"
     ]
    }
   ],
   "source": [
    "test_datagen = ImageDataGenerator(rescale=1./255)\n",
    "test_set = test_datagen.flow_from_directory(\n",
    "        'dataset/test_set',\n",
    "        target_size=(64, 64),\n",
    "        batch_size=32,\n",
    "        class_mode='binary')"
   ]
  },
  {
   "cell_type": "markdown",
   "metadata": {},
   "source": [
    "## Part 2 - Building the CNN\n",
    "### Initializing the CNN"
   ]
  },
  {
   "cell_type": "code",
   "execution_count": 5,
   "metadata": {},
   "outputs": [],
   "source": [
    "cnn = tf.keras.models.Sequential()"
   ]
  },
  {
   "cell_type": "markdown",
   "metadata": {},
   "source": [
    "### Step 1: Convolution"
   ]
  },
  {
   "cell_type": "code",
   "execution_count": 6,
   "metadata": {},
   "outputs": [],
   "source": [
    "cnn.add(tf.keras.layers.Conv2D(filters=32, kernel_size=3, activation='relu', input_shape=[64,64,3]))"
   ]
  },
  {
   "cell_type": "markdown",
   "metadata": {},
   "source": [
    "### Step 2: Pooling"
   ]
  },
  {
   "cell_type": "code",
   "execution_count": 7,
   "metadata": {},
   "outputs": [],
   "source": [
    "# padding (missing values from shifter kernel)\n",
    "cnn.add(tf.keras.layers.MaxPool2D(pool_size=2, strides=2))"
   ]
  },
  {
   "cell_type": "markdown",
   "metadata": {},
   "source": [
    "### Adding a second convolutional layer"
   ]
  },
  {
   "cell_type": "code",
   "execution_count": 8,
   "metadata": {},
   "outputs": [],
   "source": [
    "cnn.add(tf.keras.layers.Conv2D(filters=32, kernel_size=3, activation='relu'))\n",
    "cnn.add(tf.keras.layers.MaxPool2D(pool_size=2, strides=2))"
   ]
  },
  {
   "cell_type": "markdown",
   "metadata": {},
   "source": [
    "### Step 3: Flattening"
   ]
  },
  {
   "cell_type": "code",
   "execution_count": 9,
   "metadata": {},
   "outputs": [],
   "source": [
    "cnn.add(tf.keras.layers.Flatten())"
   ]
  },
  {
   "cell_type": "markdown",
   "metadata": {},
   "source": [
    "### Step 4: Full connection"
   ]
  },
  {
   "cell_type": "code",
   "execution_count": 10,
   "metadata": {},
   "outputs": [],
   "source": [
    "cnn.add(tf.keras.layers.Dense(units=128, activation='relu'))"
   ]
  },
  {
   "cell_type": "markdown",
   "metadata": {},
   "source": [
    "### Step 5: Output layer"
   ]
  },
  {
   "cell_type": "code",
   "execution_count": 11,
   "metadata": {},
   "outputs": [],
   "source": [
    "cnn.add(tf.keras.layers.Dense(units=1, activation='sigmoid'))"
   ]
  },
  {
   "cell_type": "markdown",
   "metadata": {},
   "source": [
    "## Part 3 - Training the CNN\n",
    "### Compiling the CNN"
   ]
  },
  {
   "cell_type": "code",
   "execution_count": 12,
   "metadata": {},
   "outputs": [],
   "source": [
    "cnn.compile(optimizer='adam', loss='binary_crossentropy', metrics=['accuracy'])"
   ]
  },
  {
   "cell_type": "markdown",
   "metadata": {},
   "source": [
    "### Training and evaluation"
   ]
  },
  {
   "cell_type": "code",
   "execution_count": 13,
   "metadata": {},
   "outputs": [
    {
     "name": "stdout",
     "output_type": "stream",
     "text": [
      "Epoch 1/20\n",
      "250/250 [==============================] - 82s 325ms/step - loss: 0.6986 - accuracy: 0.5411 - val_loss: 0.6318 - val_accuracy: 0.6435\n",
      "Epoch 2/20\n",
      "250/250 [==============================] - 74s 295ms/step - loss: 0.6137 - accuracy: 0.6686 - val_loss: 0.5800 - val_accuracy: 0.6935\n",
      "Epoch 3/20\n",
      "250/250 [==============================] - 72s 288ms/step - loss: 0.5566 - accuracy: 0.7089 - val_loss: 0.5225 - val_accuracy: 0.7465\n",
      "Epoch 4/20\n",
      "250/250 [==============================] - 81s 322ms/step - loss: 0.5121 - accuracy: 0.7435 - val_loss: 0.5122 - val_accuracy: 0.7495\n",
      "Epoch 5/20\n",
      "250/250 [==============================] - 75s 300ms/step - loss: 0.4984 - accuracy: 0.7505 - val_loss: 0.4815 - val_accuracy: 0.7740\n",
      "Epoch 6/20\n",
      "250/250 [==============================] - 69s 278ms/step - loss: 0.4750 - accuracy: 0.7653 - val_loss: 0.5151 - val_accuracy: 0.7550\n",
      "Epoch 7/20\n",
      "250/250 [==============================] - 68s 272ms/step - loss: 0.4744 - accuracy: 0.7651 - val_loss: 0.4750 - val_accuracy: 0.7765\n",
      "Epoch 8/20\n",
      "250/250 [==============================] - 67s 268ms/step - loss: 0.4547 - accuracy: 0.7857 - val_loss: 0.4784 - val_accuracy: 0.7695\n",
      "Epoch 9/20\n",
      "250/250 [==============================] - 77s 309ms/step - loss: 0.4373 - accuracy: 0.7933 - val_loss: 0.4614 - val_accuracy: 0.7800\n",
      "Epoch 10/20\n",
      "250/250 [==============================] - 69s 277ms/step - loss: 0.4114 - accuracy: 0.8144 - val_loss: 0.4837 - val_accuracy: 0.7740\n",
      "Epoch 11/20\n",
      "250/250 [==============================] - 65s 259ms/step - loss: 0.4182 - accuracy: 0.8109 - val_loss: 0.4479 - val_accuracy: 0.7895\n",
      "Epoch 12/20\n",
      "250/250 [==============================] - 65s 260ms/step - loss: 0.4031 - accuracy: 0.8195 - val_loss: 0.4656 - val_accuracy: 0.7750\n",
      "Epoch 13/20\n",
      "250/250 [==============================] - 64s 256ms/step - loss: 0.3997 - accuracy: 0.8178 - val_loss: 0.4545 - val_accuracy: 0.7845\n",
      "Epoch 14/20\n",
      "250/250 [==============================] - 67s 268ms/step - loss: 0.3911 - accuracy: 0.8223 - val_loss: 0.4475 - val_accuracy: 0.7935\n",
      "Epoch 15/20\n",
      "250/250 [==============================] - 67s 268ms/step - loss: 0.3617 - accuracy: 0.8385 - val_loss: 0.5572 - val_accuracy: 0.7510\n",
      "Epoch 16/20\n",
      "250/250 [==============================] - 73s 293ms/step - loss: 0.3671 - accuracy: 0.8361 - val_loss: 0.4641 - val_accuracy: 0.7920\n",
      "Epoch 17/20\n",
      "250/250 [==============================] - 73s 292ms/step - loss: 0.3471 - accuracy: 0.8429 - val_loss: 0.4432 - val_accuracy: 0.7985\n",
      "Epoch 18/20\n",
      "250/250 [==============================] - 78s 312ms/step - loss: 0.3399 - accuracy: 0.8475 - val_loss: 0.4649 - val_accuracy: 0.7850\n",
      "Epoch 19/20\n",
      "250/250 [==============================] - 79s 316ms/step - loss: 0.3324 - accuracy: 0.8511 - val_loss: 0.4504 - val_accuracy: 0.8010\n",
      "Epoch 20/20\n",
      "250/250 [==============================] - 81s 324ms/step - loss: 0.3179 - accuracy: 0.8619 - val_loss: 0.4478 - val_accuracy: 0.8045\n"
     ]
    },
    {
     "data": {
      "text/plain": [
       "<tensorflow.python.keras.callbacks.History at 0x7faa427c24f0>"
      ]
     },
     "execution_count": 13,
     "metadata": {},
     "output_type": "execute_result"
    }
   ],
   "source": [
    "cnn.fit(x = training_set, validation_data = test_set, epochs = 20)"
   ]
  },
  {
   "cell_type": "markdown",
   "metadata": {},
   "source": [
    "## Part 4 - Making a single prediction"
   ]
  },
  {
   "cell_type": "code",
   "execution_count": 20,
   "metadata": {},
   "outputs": [
    {
     "name": "stdout",
     "output_type": "stream",
     "text": [
      "cat\n"
     ]
    }
   ],
   "source": [
    "import numpy as np\n",
    "from tensorflow.keras.preprocessing import image\n",
    "test_image = image.load_img('dataset/single_prediction/cat_or_dog_3.jpg', target_size = (64,64))\n",
    "test_image = image.img_to_array(test_image)\n",
    "test_image = np.expand_dims(test_image, axis = 0)\n",
    "result = cnn.predict(test_image)\n",
    "training_set.class_indices\n",
    "if result[0][0] == 1:\n",
    "    prediction = 'dog'\n",
    "else:\n",
    "    prediction = 'cat'\n",
    "print(prediction)"
   ]
  },
  {
   "cell_type": "code",
   "execution_count": null,
   "metadata": {},
   "outputs": [],
   "source": []
  }
 ],
 "metadata": {
  "kernelspec": {
   "display_name": "Python 3",
   "language": "python",
   "name": "python3"
  },
  "language_info": {
   "codemirror_mode": {
    "name": "ipython",
    "version": 3
   },
   "file_extension": ".py",
   "mimetype": "text/x-python",
   "name": "python",
   "nbconvert_exporter": "python",
   "pygments_lexer": "ipython3",
   "version": "3.8.5"
  }
 },
 "nbformat": 4,
 "nbformat_minor": 4
}
